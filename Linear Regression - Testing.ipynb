{
 "cells": [
  {
   "cell_type": "code",
   "execution_count": 7,
   "id": "relative-milwaukee",
   "metadata": {},
   "outputs": [],
   "source": [
    "import pickle\n",
    "import numpy as np"
   ]
  },
  {
   "cell_type": "code",
   "execution_count": 2,
   "id": "seeing-friday",
   "metadata": {},
   "outputs": [],
   "source": [
    "with open('linear_model.pkl','rb') as f:\n",
    "    model = pickle.load(f)"
   ]
  },
  {
   "cell_type": "code",
   "execution_count": 10,
   "id": "floating-married",
   "metadata": {},
   "outputs": [
    {
     "name": "stdout",
     "output_type": "stream",
     "text": [
      "Predicted PRICE is 13.34$\n"
     ]
    }
   ],
   "source": [
    "CRIM = 0.07724\n",
    "ZN = 0.0\n",
    "INDUS = 5.78\n",
    "CHAS = 0.0\n",
    "NOX = 0.45\n",
    "RM = 3.456789\n",
    "AGE = 19.4\n",
    "DIS =  6.1146\n",
    "RAD =  4.0\n",
    "TAX =  450.0\n",
    "PTRATIO   =   16.5\n",
    "B  =  388.21\n",
    "LSTAT =  7.56\n",
    "\n",
    "test_array = np.array([CRIM,ZN,INDUS,CHAS,NOX,RM,AGE,DIS,RAD,TAX,PTRATIO,B,LSTAT],ndmin = 2)\n",
    "\n",
    "def get_predicted_price(test_array):\n",
    "    pred_price = model.predict(test_array)[0]\n",
    "    pred_price = np.around(pred_price,2)\n",
    "    \n",
    "    return pred_price\n",
    "\n",
    "pred_price = get_predicted_price(test_array)\n",
    "print(f\"Predicted PRICE is {pred_price}$\")"
   ]
  },
  {
   "cell_type": "code",
   "execution_count": null,
   "id": "alone-particular",
   "metadata": {},
   "outputs": [],
   "source": []
  }
 ],
 "metadata": {
  "kernelspec": {
   "display_name": "Python 3",
   "language": "python",
   "name": "python3"
  },
  "language_info": {
   "codemirror_mode": {
    "name": "ipython",
    "version": 3
   },
   "file_extension": ".py",
   "mimetype": "text/x-python",
   "name": "python",
   "nbconvert_exporter": "python",
   "pygments_lexer": "ipython3",
   "version": "3.8.7"
  }
 },
 "nbformat": 4,
 "nbformat_minor": 5
}
